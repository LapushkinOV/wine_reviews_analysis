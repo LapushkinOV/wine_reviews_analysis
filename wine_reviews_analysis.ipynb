{
 "cells": [
  {
   "cell_type": "code",
   "execution_count": 104,
   "id": "dcb1b3b7",
   "metadata": {},
   "outputs": [],
   "source": [
    "import pandas as pd\n",
    "import numpy as np\n",
    "import matplotlib.pyplot as plt\n",
    "from statsmodels.stats.proportion import proportion_confint\n",
    "from scipy.stats import norm\n",
    "from statsmodels.stats.weightstats import _tconfint_generic\n",
    "%matplotlib inline"
   ]
  },
  {
   "cell_type": "code",
   "execution_count": 105,
   "id": "152ea2d8",
   "metadata": {},
   "outputs": [],
   "source": [
    "df=pd.read_csv('winemag-data_first150k.csv')"
   ]
  },
  {
   "cell_type": "code",
   "execution_count": 106,
   "id": "dfdba530",
   "metadata": {},
   "outputs": [
    {
     "data": {
      "text/html": [
       "<div>\n",
       "<style scoped>\n",
       "    .dataframe tbody tr th:only-of-type {\n",
       "        vertical-align: middle;\n",
       "    }\n",
       "\n",
       "    .dataframe tbody tr th {\n",
       "        vertical-align: top;\n",
       "    }\n",
       "\n",
       "    .dataframe thead th {\n",
       "        text-align: right;\n",
       "    }\n",
       "</style>\n",
       "<table border=\"1\" class=\"dataframe\">\n",
       "  <thead>\n",
       "    <tr style=\"text-align: right;\">\n",
       "      <th></th>\n",
       "      <th>Unnamed: 0</th>\n",
       "      <th>country</th>\n",
       "      <th>description</th>\n",
       "      <th>designation</th>\n",
       "      <th>points</th>\n",
       "      <th>price</th>\n",
       "      <th>province</th>\n",
       "      <th>region_1</th>\n",
       "      <th>region_2</th>\n",
       "      <th>variety</th>\n",
       "      <th>winery</th>\n",
       "    </tr>\n",
       "  </thead>\n",
       "  <tbody>\n",
       "    <tr>\n",
       "      <th>0</th>\n",
       "      <td>0</td>\n",
       "      <td>US</td>\n",
       "      <td>This tremendous 100% varietal wine hails from ...</td>\n",
       "      <td>Martha's Vineyard</td>\n",
       "      <td>96</td>\n",
       "      <td>235.0</td>\n",
       "      <td>California</td>\n",
       "      <td>Napa Valley</td>\n",
       "      <td>Napa</td>\n",
       "      <td>Cabernet Sauvignon</td>\n",
       "      <td>Heitz</td>\n",
       "    </tr>\n",
       "    <tr>\n",
       "      <th>1</th>\n",
       "      <td>1</td>\n",
       "      <td>Spain</td>\n",
       "      <td>Ripe aromas of fig, blackberry and cassis are ...</td>\n",
       "      <td>Carodorum Selección Especial Reserva</td>\n",
       "      <td>96</td>\n",
       "      <td>110.0</td>\n",
       "      <td>Northern Spain</td>\n",
       "      <td>Toro</td>\n",
       "      <td>NaN</td>\n",
       "      <td>Tinta de Toro</td>\n",
       "      <td>Bodega Carmen Rodríguez</td>\n",
       "    </tr>\n",
       "    <tr>\n",
       "      <th>2</th>\n",
       "      <td>2</td>\n",
       "      <td>US</td>\n",
       "      <td>Mac Watson honors the memory of a wine once ma...</td>\n",
       "      <td>Special Selected Late Harvest</td>\n",
       "      <td>96</td>\n",
       "      <td>90.0</td>\n",
       "      <td>California</td>\n",
       "      <td>Knights Valley</td>\n",
       "      <td>Sonoma</td>\n",
       "      <td>Sauvignon Blanc</td>\n",
       "      <td>Macauley</td>\n",
       "    </tr>\n",
       "    <tr>\n",
       "      <th>3</th>\n",
       "      <td>3</td>\n",
       "      <td>US</td>\n",
       "      <td>This spent 20 months in 30% new French oak, an...</td>\n",
       "      <td>Reserve</td>\n",
       "      <td>96</td>\n",
       "      <td>65.0</td>\n",
       "      <td>Oregon</td>\n",
       "      <td>Willamette Valley</td>\n",
       "      <td>Willamette Valley</td>\n",
       "      <td>Pinot Noir</td>\n",
       "      <td>Ponzi</td>\n",
       "    </tr>\n",
       "    <tr>\n",
       "      <th>4</th>\n",
       "      <td>4</td>\n",
       "      <td>France</td>\n",
       "      <td>This is the top wine from La Bégude, named aft...</td>\n",
       "      <td>La Brûlade</td>\n",
       "      <td>95</td>\n",
       "      <td>66.0</td>\n",
       "      <td>Provence</td>\n",
       "      <td>Bandol</td>\n",
       "      <td>NaN</td>\n",
       "      <td>Provence red blend</td>\n",
       "      <td>Domaine de la Bégude</td>\n",
       "    </tr>\n",
       "  </tbody>\n",
       "</table>\n",
       "</div>"
      ],
      "text/plain": [
       "   Unnamed: 0 country                                        description  \\\n",
       "0           0      US  This tremendous 100% varietal wine hails from ...   \n",
       "1           1   Spain  Ripe aromas of fig, blackberry and cassis are ...   \n",
       "2           2      US  Mac Watson honors the memory of a wine once ma...   \n",
       "3           3      US  This spent 20 months in 30% new French oak, an...   \n",
       "4           4  France  This is the top wine from La Bégude, named aft...   \n",
       "\n",
       "                            designation  points  price        province  \\\n",
       "0                     Martha's Vineyard      96  235.0      California   \n",
       "1  Carodorum Selección Especial Reserva      96  110.0  Northern Spain   \n",
       "2         Special Selected Late Harvest      96   90.0      California   \n",
       "3                               Reserve      96   65.0          Oregon   \n",
       "4                            La Brûlade      95   66.0        Provence   \n",
       "\n",
       "            region_1           region_2             variety  \\\n",
       "0        Napa Valley               Napa  Cabernet Sauvignon   \n",
       "1               Toro                NaN       Tinta de Toro   \n",
       "2     Knights Valley             Sonoma     Sauvignon Blanc   \n",
       "3  Willamette Valley  Willamette Valley          Pinot Noir   \n",
       "4             Bandol                NaN  Provence red blend   \n",
       "\n",
       "                    winery  \n",
       "0                    Heitz  \n",
       "1  Bodega Carmen Rodríguez  \n",
       "2                 Macauley  \n",
       "3                    Ponzi  \n",
       "4     Domaine de la Bégude  "
      ]
     },
     "execution_count": 106,
     "metadata": {},
     "output_type": "execute_result"
    }
   ],
   "source": [
    "df.head(5)"
   ]
  },
  {
   "cell_type": "markdown",
   "id": "2406a90b",
   "metadata": {},
   "source": [
    "Расшифровка значений<br>\n",
    "country - Страна происхождения вина <br>\n",
    "designation - Виноградник на винодельне, откуда взят виноград из которого произведено вино<br>\n",
    "points - Количество баллов которыми WineEnthusiast оценил вино по шкале от 1 до 100 (опублкованы отзывы только о винах, набравших >=80)<br>\n",
    "price - Стоимость бутылки вина<br>\n",
    "province - Область в котором произведено вино<br>\n",
    "region_1 - Регион в котором выращен виноград (например, Napa)<br>\n",
    "region_2 - Иногда указаны более конкретные регионы (например, Rutherford внутри the Napa Valley), иногда значение может быть пустым<br>\n",
    "variety - Сорт винограда (например, Pinot Noir)<br>\n",
    "winery - Винодельня<br>"
   ]
  },
  {
   "cell_type": "code",
   "execution_count": 119,
   "id": "6e7c2831",
   "metadata": {},
   "outputs": [
    {
     "name": "stdout",
     "output_type": "stream",
     "text": [
      "<class 'pandas.core.frame.DataFrame'>\n",
      "Int64Index: 39241 entries, 0 to 150916\n",
      "Data columns (total 12 columns):\n",
      " #   Column       Non-Null Count  Dtype  \n",
      "---  ------       --------------  -----  \n",
      " 0   Unnamed: 0   39241 non-null  int64  \n",
      " 1   country      39241 non-null  object \n",
      " 2   description  39241 non-null  object \n",
      " 3   designation  39241 non-null  object \n",
      " 4   points       39241 non-null  int64  \n",
      " 5   price        39241 non-null  float64\n",
      " 6   province     39241 non-null  object \n",
      " 7   region_1     39241 non-null  object \n",
      " 8   region_2     39241 non-null  object \n",
      " 9   variety      39241 non-null  object \n",
      " 10  winery       39241 non-null  object \n",
      " 11  expensive    39241 non-null  int64  \n",
      "dtypes: float64(1), int64(3), object(8)\n",
      "memory usage: 3.9+ MB\n"
     ]
    }
   ],
   "source": [
    "df=df.dropna()\n",
    "df=df.drop_duplicates()\n",
    "df.info()"
   ]
  },
  {
   "cell_type": "markdown",
   "id": "2700d195",
   "metadata": {},
   "source": [
    "### Рассмотрим распределение цен на вино"
   ]
  },
  {
   "cell_type": "code",
   "execution_count": 120,
   "id": "8c423e97",
   "metadata": {},
   "outputs": [
    {
     "data": {
      "text/plain": [
       "<Axes: >"
      ]
     },
     "execution_count": 120,
     "metadata": {},
     "output_type": "execute_result"
    },
    {
     "data": {
      "image/png": "[encoded data removed]",
      "text/plain": [
       "<Figure size 640x480 with 1 Axes>"
      ]
     },
     "metadata": {},
     "output_type": "display_data"
    }
   ],
   "source": [
    "df['price'].hist(bins=100)"
   ]
  },
  {
   "cell_type": "markdown",
   "id": "5b47aca8",
   "metadata": {},
   "source": [
    "#### Из распределения видно наличие выбросов - небольшое количество вин с очень высокой стоимостью.\n",
    "#### Отфильтруем выбросы и построим новую гистограмму распределения."
   ]
  },
  {
   "cell_type": "code",
   "execution_count": 121,
   "id": "56376dcb",
   "metadata": {},
   "outputs": [
    {
     "data": {
      "text/plain": [
       "<Axes: >"
      ]
     },
     "execution_count": 121,
     "metadata": {},
     "output_type": "execute_result"
    },
    {
     "data": {
      "image/png": "[encoded data removed]",
      "text/plain": [
       "<Figure size 640x480 with 1 Axes>"
      ]
     },
     "metadata": {},
     "output_type": "display_data"
    }
   ],
   "source": [
    "df[df['price'] < df['price'].quantile(0.99)]['price'].hist(bins=100)"
   ]
  },
  {
   "cell_type": "markdown",
   "id": "b96e8ae3",
   "metadata": {},
   "source": [
    "#### Разделим выборку пополам и определим две группы вин: дешевые и дорогие. Определим медианное значение стоимости вина и укажем его в качестве порогового значения при разделении на группы:"
   ]
  },
  {
   "cell_type": "code",
   "execution_count": 122,
   "id": "7010d37e",
   "metadata": {},
   "outputs": [
    {
     "data": {
      "text/plain": [
       "32.0"
      ]
     },
     "execution_count": 122,
     "metadata": {},
     "output_type": "execute_result"
    }
   ],
   "source": [
    "df['price'].median()"
   ]
  },
  {
   "cell_type": "code",
   "execution_count": 130,
   "id": "0f518367",
   "metadata": {},
   "outputs": [],
   "source": [
    "threshold = df['price'].median()\n",
    "df['expensive'] = df['price'].apply(lambda x: 1 if x > threshold else 0)"
   ]
  },
  {
   "cell_type": "code",
   "execution_count": 131,
   "id": "34234c03",
   "metadata": {},
   "outputs": [
    {
     "data": {
      "text/plain": [
       "((19278, 12), (19963, 12))"
      ]
     },
     "execution_count": 131,
     "metadata": {},
     "output_type": "execute_result"
    }
   ],
   "source": [
    "df[df['expensive'] == 1].shape, df[df['expensive'] == 0].shape"
   ]
  },
  {
   "cell_type": "markdown",
   "id": "15667ad8",
   "metadata": {},
   "source": [
    "#### В выборке представлены оценки для 19 278 дорогих и 19 963 недорогих вин"
   ]
  },
  {
   "cell_type": "markdown",
   "id": "ad60512e",
   "metadata": {},
   "source": [
    "### Определим долю дорогих вин производимых в каждой из представленных областей"
   ]
  },
  {
   "cell_type": "code",
   "execution_count": 125,
   "id": "69c3432a",
   "metadata": {},
   "outputs": [
    {
     "name": "stdout",
     "output_type": "stream",
     "text": [
      "proportion of expensive wines in California is 0.5257905242147284\n",
      "proportion of expensive wines in Oregon is 0.5805070793546263\n",
      "proportion of expensive wines in Washington is 0.3753675269519765\n",
      "proportion of expensive wines in New York is 0.13245901639344262\n"
     ]
    }
   ],
   "source": [
    "for province in df['province'].unique():\n",
    "    df_prop = df[df['province'] == province]\n",
    "    prop = sum(df_prop['expensive']) / len(df_prop)\n",
    "    print('proportion of expensive wines in {0} is {1}'.format(province,prop))"
   ]
  },
  {
   "cell_type": "markdown",
   "id": "f057ce19",
   "metadata": {},
   "source": [
    "### Определим доверительные интервалы для найденных пропорций"
   ]
  },
  {
   "cell_type": "code",
   "execution_count": 126,
   "id": "62f74d29",
   "metadata": {},
   "outputs": [
    {
     "name": "stdout",
     "output_type": "stream",
     "text": [
      "confidence interval for proportion of expensive wines in California is (0.5199991278163051, 0.5315819206131517)\n",
      "confidence interval for proportion of expensive wines in Oregon is (0.5629564872321101, 0.5980576714771425)\n",
      "confidence interval for proportion of expensive wines in Washington is (0.36323805046059787, 0.38749700344335514)\n",
      "confidence interval for proportion of expensive wines in New York is (0.11544531006168147, 0.1494727227252038)\n"
     ]
    }
   ],
   "source": [
    "for province in df['province'].unique():\n",
    "    df_prop = df[df['province'] == province]\n",
    "    prop = sum(df_prop['expensive']) / len(df_prop)\n",
    "    # Применим функцию proportion_confint со следующими параметрами:\n",
    "    # count = sum(df_prop['expensive']) - количество наблюдений,\n",
    "    # nobs = len(df_prop) - количество объектов учавствующих в выборке,\n",
    "    # alpha = 0.05 - параметр определяющий доверительную вероятность 95%\n",
    "    prop_int = proportion_confint(sum(df_prop['expensive']),len(df_prop),alpha=0.05,method='normal')\n",
    "    print('confidence interval for proportion of expensive wines in {0} is {1}'.format(province,prop_int))"
   ]
  },
  {
   "cell_type": "markdown",
   "id": "c3874258",
   "metadata": {},
   "source": [
    "#### Так как доверительный интервал для доли дорогих вин находится правее всех остальных интервалов, делаем вывод о том, что с 95% вероятностью можно утверждать что наибольшая доля дорогих вин производится в Орегоне"
   ]
  },
  {
   "cell_type": "markdown",
   "id": "86d8f727",
   "metadata": {},
   "source": [
    "### Определим среднюю оценку среди дорогих и дешевых вин"
   ]
  },
  {
   "cell_type": "code",
   "execution_count": 127,
   "id": "6d8da335",
   "metadata": {},
   "outputs": [
    {
     "data": {
      "text/plain": [
       "(89.88, 86.89)"
      ]
     },
     "execution_count": 127,
     "metadata": {},
     "output_type": "execute_result"
    }
   ],
   "source": [
    "expensive_mean_points = round(df[df['expensive'] ==1]['points'].mean(),2)\n",
    "cheap_mean_points = round(df[df['expensive'] ==0]['points'].mean(),2)\n",
    "\n",
    "expensive_mean_points, cheap_mean_points"
   ]
  },
  {
   "cell_type": "markdown",
   "id": "3e3257df",
   "metadata": {},
   "source": [
    "#### Для определения доверительного интервала воспользуемся функцией _tconfint_generic"
   ]
  },
  {
   "cell_type": "code",
   "execution_count": 128,
   "id": "fa9a9460",
   "metadata": {},
   "outputs": [],
   "source": [
    "expensive_mean_std = df[df['expensive'] == 1]['points'].std()/np.sqrt(len(df[df['expensive'] == 1]['points']))\n",
    "\n",
    "cheap_mean_std = df[df['expensive'] == 0]['points'].std()/np.sqrt(len(df[df['expensive'] == 0]['points']))"
   ]
  },
  {
   "cell_type": "code",
   "execution_count": 129,
   "id": "240f05e7",
   "metadata": {},
   "outputs": [
    {
     "data": {
      "text/plain": [
       "((89.81903980095062, 89.94096019904937), (86.837085152533, 86.942914847467))"
      ]
     },
     "execution_count": 129,
     "metadata": {},
     "output_type": "execute_result"
    }
   ],
   "source": [
    "expensive_interval = _tconfint_generic(expensive_mean_points, expensive_mean_std, len(df[df['expensive'] == 1]['points']) - 1,\\\n",
    "                                  0.01,alternative='two-sided')\n",
    "cheap_interval = _tconfint_generic(cheap_mean_points, cheap_mean_std, len(df[df['expensive'] == 0]['points']) - 1,\\\n",
    "                                   0.01,alternative='two-sided')\n",
    "expensive_interval, cheap_interval"
   ]
  },
  {
   "cell_type": "markdown",
   "id": "745335e5",
   "metadata": {},
   "source": [
    "#### Доверительный интервал для средней оценки дорогих вин находится правее. Таким образом можно утверждать, что средняя оценка среди дорогих вин выше, чем среди дешевых."
   ]
  },
  {
   "cell_type": "markdown",
   "id": "1118d4d8",
   "metadata": {},
   "source": [
    "### Определим наиболее популярные сорта вин и проанализируем их оценки"
   ]
  },
  {
   "cell_type": "code",
   "execution_count": 134,
   "id": "07fa9867",
   "metadata": {},
   "outputs": [
    {
     "data": {
      "text/plain": [
       "['Pinot Noir', 'Chardonnay', 'Cabernet Sauvignon', 'Red Blend', 'Zinfandel']"
      ]
     },
     "execution_count": 134,
     "metadata": {},
     "output_type": "execute_result"
    }
   ],
   "source": [
    "# Создадим список 5 популярных сортов\n",
    "variety=list(df['variety'].value_counts().head(5).index)\n",
    "variety"
   ]
  },
  {
   "cell_type": "code",
   "execution_count": 136,
   "id": "25198e43",
   "metadata": {},
   "outputs": [
    {
     "data": {
      "text/html": [
       "<div>\n",
       "<style scoped>\n",
       "    .dataframe tbody tr th:only-of-type {\n",
       "        vertical-align: middle;\n",
       "    }\n",
       "\n",
       "    .dataframe tbody tr th {\n",
       "        vertical-align: top;\n",
       "    }\n",
       "\n",
       "    .dataframe thead th {\n",
       "        text-align: right;\n",
       "    }\n",
       "</style>\n",
       "<table border=\"1\" class=\"dataframe\">\n",
       "  <thead>\n",
       "    <tr style=\"text-align: right;\">\n",
       "      <th></th>\n",
       "      <th>Unnamed: 0</th>\n",
       "      <th>country</th>\n",
       "      <th>description</th>\n",
       "      <th>designation</th>\n",
       "      <th>points</th>\n",
       "      <th>price</th>\n",
       "      <th>province</th>\n",
       "      <th>region_1</th>\n",
       "      <th>region_2</th>\n",
       "      <th>variety</th>\n",
       "      <th>winery</th>\n",
       "      <th>expensive</th>\n",
       "    </tr>\n",
       "  </thead>\n",
       "  <tbody>\n",
       "    <tr>\n",
       "      <th>0</th>\n",
       "      <td>0</td>\n",
       "      <td>US</td>\n",
       "      <td>This tremendous 100% varietal wine hails from ...</td>\n",
       "      <td>Martha's Vineyard</td>\n",
       "      <td>96</td>\n",
       "      <td>235.0</td>\n",
       "      <td>California</td>\n",
       "      <td>Napa Valley</td>\n",
       "      <td>Napa</td>\n",
       "      <td>Cabernet Sauvignon</td>\n",
       "      <td>Heitz</td>\n",
       "      <td>1</td>\n",
       "    </tr>\n",
       "    <tr>\n",
       "      <th>3</th>\n",
       "      <td>3</td>\n",
       "      <td>US</td>\n",
       "      <td>This spent 20 months in 30% new French oak, an...</td>\n",
       "      <td>Reserve</td>\n",
       "      <td>96</td>\n",
       "      <td>65.0</td>\n",
       "      <td>Oregon</td>\n",
       "      <td>Willamette Valley</td>\n",
       "      <td>Willamette Valley</td>\n",
       "      <td>Pinot Noir</td>\n",
       "      <td>Ponzi</td>\n",
       "      <td>1</td>\n",
       "    </tr>\n",
       "    <tr>\n",
       "      <th>8</th>\n",
       "      <td>8</td>\n",
       "      <td>US</td>\n",
       "      <td>This re-named vineyard was formerly bottled as...</td>\n",
       "      <td>Silice</td>\n",
       "      <td>95</td>\n",
       "      <td>65.0</td>\n",
       "      <td>Oregon</td>\n",
       "      <td>Chehalem Mountains</td>\n",
       "      <td>Willamette Valley</td>\n",
       "      <td>Pinot Noir</td>\n",
       "      <td>Bergström</td>\n",
       "      <td>1</td>\n",
       "    </tr>\n",
       "    <tr>\n",
       "      <th>9</th>\n",
       "      <td>9</td>\n",
       "      <td>US</td>\n",
       "      <td>The producer sources from two blocks of the vi...</td>\n",
       "      <td>Gap's Crown Vineyard</td>\n",
       "      <td>95</td>\n",
       "      <td>60.0</td>\n",
       "      <td>California</td>\n",
       "      <td>Sonoma Coast</td>\n",
       "      <td>Sonoma</td>\n",
       "      <td>Pinot Noir</td>\n",
       "      <td>Blue Farm</td>\n",
       "      <td>1</td>\n",
       "    </tr>\n",
       "    <tr>\n",
       "      <th>11</th>\n",
       "      <td>11</td>\n",
       "      <td>US</td>\n",
       "      <td>From 18-year-old vines, this supple well-balan...</td>\n",
       "      <td>Estate Vineyard Wadensvil Block</td>\n",
       "      <td>95</td>\n",
       "      <td>48.0</td>\n",
       "      <td>Oregon</td>\n",
       "      <td>Ribbon Ridge</td>\n",
       "      <td>Willamette Valley</td>\n",
       "      <td>Pinot Noir</td>\n",
       "      <td>Patricia Green Cellars</td>\n",
       "      <td>1</td>\n",
       "    </tr>\n",
       "    <tr>\n",
       "      <th>...</th>\n",
       "      <td>...</td>\n",
       "      <td>...</td>\n",
       "      <td>...</td>\n",
       "      <td>...</td>\n",
       "      <td>...</td>\n",
       "      <td>...</td>\n",
       "      <td>...</td>\n",
       "      <td>...</td>\n",
       "      <td>...</td>\n",
       "      <td>...</td>\n",
       "      <td>...</td>\n",
       "      <td>...</td>\n",
       "    </tr>\n",
       "    <tr>\n",
       "      <th>150856</th>\n",
       "      <td>150856</td>\n",
       "      <td>US</td>\n",
       "      <td>White Merlot? Why not? It's actually a deep ro...</td>\n",
       "      <td>Forest Fire</td>\n",
       "      <td>84</td>\n",
       "      <td>8.0</td>\n",
       "      <td>California</td>\n",
       "      <td>California</td>\n",
       "      <td>California Other</td>\n",
       "      <td>Chardonnay</td>\n",
       "      <td>Forest Glen</td>\n",
       "      <td>0</td>\n",
       "    </tr>\n",
       "    <tr>\n",
       "      <th>150861</th>\n",
       "      <td>150861</td>\n",
       "      <td>US</td>\n",
       "      <td>From a dependable producer and a fine vintage ...</td>\n",
       "      <td>Reserve</td>\n",
       "      <td>84</td>\n",
       "      <td>16.0</td>\n",
       "      <td>California</td>\n",
       "      <td>Sonoma County</td>\n",
       "      <td>Sonoma</td>\n",
       "      <td>Chardonnay</td>\n",
       "      <td>Clos du Bois</td>\n",
       "      <td>0</td>\n",
       "    </tr>\n",
       "    <tr>\n",
       "      <th>150873</th>\n",
       "      <td>150873</td>\n",
       "      <td>US</td>\n",
       "      <td>With a color akin to the soft pink of ripe pea...</td>\n",
       "      <td>White</td>\n",
       "      <td>83</td>\n",
       "      <td>7.0</td>\n",
       "      <td>California</td>\n",
       "      <td>Amador County</td>\n",
       "      <td>Sierra Foothills</td>\n",
       "      <td>Zinfandel</td>\n",
       "      <td>Montevina</td>\n",
       "      <td>0</td>\n",
       "    </tr>\n",
       "    <tr>\n",
       "      <th>150883</th>\n",
       "      <td>150883</td>\n",
       "      <td>US</td>\n",
       "      <td>A coppery colored, off-dry-to-frankly-sweet wi...</td>\n",
       "      <td>Reserve White</td>\n",
       "      <td>83</td>\n",
       "      <td>7.0</td>\n",
       "      <td>California</td>\n",
       "      <td>California</td>\n",
       "      <td>California Other</td>\n",
       "      <td>Zinfandel</td>\n",
       "      <td>Glen Ellen</td>\n",
       "      <td>0</td>\n",
       "    </tr>\n",
       "    <tr>\n",
       "      <th>150889</th>\n",
       "      <td>150889</td>\n",
       "      <td>US</td>\n",
       "      <td>A bizarre style of wine. The aromas are Port-l...</td>\n",
       "      <td>Lafond Vineyard</td>\n",
       "      <td>82</td>\n",
       "      <td>35.0</td>\n",
       "      <td>California</td>\n",
       "      <td>Santa Ynez Valley</td>\n",
       "      <td>Central Coast</td>\n",
       "      <td>Pinot Noir</td>\n",
       "      <td>Lafond</td>\n",
       "      <td>1</td>\n",
       "    </tr>\n",
       "  </tbody>\n",
       "</table>\n",
       "<p>22971 rows × 12 columns</p>\n",
       "</div>"
      ],
      "text/plain": [
       "        Unnamed: 0 country                                        description  \\\n",
       "0                0      US  This tremendous 100% varietal wine hails from ...   \n",
       "3                3      US  This spent 20 months in 30% new French oak, an...   \n",
       "8                8      US  This re-named vineyard was formerly bottled as...   \n",
       "9                9      US  The producer sources from two blocks of the vi...   \n",
       "11              11      US  From 18-year-old vines, this supple well-balan...   \n",
       "...            ...     ...                                                ...   \n",
       "150856      150856      US  White Merlot? Why not? It's actually a deep ro...   \n",
       "150861      150861      US  From a dependable producer and a fine vintage ...   \n",
       "150873      150873      US  With a color akin to the soft pink of ripe pea...   \n",
       "150883      150883      US  A coppery colored, off-dry-to-frankly-sweet wi...   \n",
       "150889      150889      US  A bizarre style of wine. The aromas are Port-l...   \n",
       "\n",
       "                            designation  points  price    province  \\\n",
       "0                     Martha's Vineyard      96  235.0  California   \n",
       "3                               Reserve      96   65.0      Oregon   \n",
       "8                                Silice      95   65.0      Oregon   \n",
       "9                  Gap's Crown Vineyard      95   60.0  California   \n",
       "11      Estate Vineyard Wadensvil Block      95   48.0      Oregon   \n",
       "...                                 ...     ...    ...         ...   \n",
       "150856                      Forest Fire      84    8.0  California   \n",
       "150861                          Reserve      84   16.0  California   \n",
       "150873                            White      83    7.0  California   \n",
       "150883                    Reserve White      83    7.0  California   \n",
       "150889                  Lafond Vineyard      82   35.0  California   \n",
       "\n",
       "                  region_1           region_2             variety  \\\n",
       "0              Napa Valley               Napa  Cabernet Sauvignon   \n",
       "3        Willamette Valley  Willamette Valley          Pinot Noir   \n",
       "8       Chehalem Mountains  Willamette Valley          Pinot Noir   \n",
       "9             Sonoma Coast             Sonoma          Pinot Noir   \n",
       "11            Ribbon Ridge  Willamette Valley          Pinot Noir   \n",
       "...                    ...                ...                 ...   \n",
       "150856          California   California Other          Chardonnay   \n",
       "150861       Sonoma County             Sonoma          Chardonnay   \n",
       "150873       Amador County   Sierra Foothills           Zinfandel   \n",
       "150883          California   California Other           Zinfandel   \n",
       "150889   Santa Ynez Valley      Central Coast          Pinot Noir   \n",
       "\n",
       "                        winery  expensive  \n",
       "0                        Heitz          1  \n",
       "3                        Ponzi          1  \n",
       "8                    Bergström          1  \n",
       "9                    Blue Farm          1  \n",
       "11      Patricia Green Cellars          1  \n",
       "...                        ...        ...  \n",
       "150856             Forest Glen          0  \n",
       "150861            Clos du Bois          0  \n",
       "150873               Montevina          0  \n",
       "150883              Glen Ellen          0  \n",
       "150889                  Lafond          1  \n",
       "\n",
       "[22971 rows x 12 columns]"
      ]
     },
     "execution_count": 136,
     "metadata": {},
     "output_type": "execute_result"
    }
   ],
   "source": [
    "# Зададим список в качестве фильтра для нашего ДФ\n",
    "wine_top_variety = df[df['variety'].isin(variety)]\n",
    "wine_top_variety"
   ]
  },
  {
   "cell_type": "code",
   "execution_count": 137,
   "id": "34606592",
   "metadata": {},
   "outputs": [
    {
     "data": {
      "text/html": [
       "<div>\n",
       "<style scoped>\n",
       "    .dataframe tbody tr th:only-of-type {\n",
       "        vertical-align: middle;\n",
       "    }\n",
       "\n",
       "    .dataframe tbody tr th {\n",
       "        vertical-align: top;\n",
       "    }\n",
       "\n",
       "    .dataframe thead th {\n",
       "        text-align: right;\n",
       "    }\n",
       "</style>\n",
       "<table border=\"1\" class=\"dataframe\">\n",
       "  <thead>\n",
       "    <tr style=\"text-align: right;\">\n",
       "      <th>variety</th>\n",
       "      <th>Cabernet Sauvignon</th>\n",
       "      <th>Chardonnay</th>\n",
       "      <th>Pinot Noir</th>\n",
       "      <th>Red Blend</th>\n",
       "      <th>Zinfandel</th>\n",
       "    </tr>\n",
       "    <tr>\n",
       "      <th>points</th>\n",
       "      <th></th>\n",
       "      <th></th>\n",
       "      <th></th>\n",
       "      <th></th>\n",
       "      <th></th>\n",
       "    </tr>\n",
       "  </thead>\n",
       "  <tbody>\n",
       "    <tr>\n",
       "      <th>80</th>\n",
       "      <td>19.0</td>\n",
       "      <td>7.0</td>\n",
       "      <td>5.0</td>\n",
       "      <td>43.0</td>\n",
       "      <td>43.0</td>\n",
       "    </tr>\n",
       "    <tr>\n",
       "      <th>81</th>\n",
       "      <td>34.0</td>\n",
       "      <td>22.0</td>\n",
       "      <td>17.0</td>\n",
       "      <td>40.0</td>\n",
       "      <td>52.0</td>\n",
       "    </tr>\n",
       "    <tr>\n",
       "      <th>82</th>\n",
       "      <td>137.0</td>\n",
       "      <td>114.0</td>\n",
       "      <td>110.0</td>\n",
       "      <td>117.0</td>\n",
       "      <td>195.0</td>\n",
       "    </tr>\n",
       "    <tr>\n",
       "      <th>83</th>\n",
       "      <td>125.0</td>\n",
       "      <td>161.0</td>\n",
       "      <td>138.0</td>\n",
       "      <td>153.0</td>\n",
       "      <td>205.0</td>\n",
       "    </tr>\n",
       "    <tr>\n",
       "      <th>84</th>\n",
       "      <td>219.0</td>\n",
       "      <td>307.0</td>\n",
       "      <td>241.0</td>\n",
       "      <td>261.0</td>\n",
       "      <td>268.0</td>\n",
       "    </tr>\n",
       "    <tr>\n",
       "      <th>85</th>\n",
       "      <td>273.0</td>\n",
       "      <td>339.0</td>\n",
       "      <td>333.0</td>\n",
       "      <td>225.0</td>\n",
       "      <td>228.0</td>\n",
       "    </tr>\n",
       "    <tr>\n",
       "      <th>86</th>\n",
       "      <td>335.0</td>\n",
       "      <td>425.0</td>\n",
       "      <td>491.0</td>\n",
       "      <td>251.0</td>\n",
       "      <td>277.0</td>\n",
       "    </tr>\n",
       "    <tr>\n",
       "      <th>87</th>\n",
       "      <td>521.0</td>\n",
       "      <td>639.0</td>\n",
       "      <td>840.0</td>\n",
       "      <td>363.0</td>\n",
       "      <td>384.0</td>\n",
       "    </tr>\n",
       "    <tr>\n",
       "      <th>88</th>\n",
       "      <td>396.0</td>\n",
       "      <td>486.0</td>\n",
       "      <td>724.0</td>\n",
       "      <td>377.0</td>\n",
       "      <td>261.0</td>\n",
       "    </tr>\n",
       "    <tr>\n",
       "      <th>89</th>\n",
       "      <td>342.0</td>\n",
       "      <td>367.0</td>\n",
       "      <td>608.0</td>\n",
       "      <td>258.0</td>\n",
       "      <td>156.0</td>\n",
       "    </tr>\n",
       "    <tr>\n",
       "      <th>90</th>\n",
       "      <td>587.0</td>\n",
       "      <td>549.0</td>\n",
       "      <td>927.0</td>\n",
       "      <td>285.0</td>\n",
       "      <td>274.0</td>\n",
       "    </tr>\n",
       "    <tr>\n",
       "      <th>91</th>\n",
       "      <td>368.0</td>\n",
       "      <td>378.0</td>\n",
       "      <td>689.0</td>\n",
       "      <td>202.0</td>\n",
       "      <td>168.0</td>\n",
       "    </tr>\n",
       "    <tr>\n",
       "      <th>92</th>\n",
       "      <td>526.0</td>\n",
       "      <td>486.0</td>\n",
       "      <td>811.0</td>\n",
       "      <td>138.0</td>\n",
       "      <td>158.0</td>\n",
       "    </tr>\n",
       "    <tr>\n",
       "      <th>93</th>\n",
       "      <td>401.0</td>\n",
       "      <td>323.0</td>\n",
       "      <td>697.0</td>\n",
       "      <td>123.0</td>\n",
       "      <td>74.0</td>\n",
       "    </tr>\n",
       "    <tr>\n",
       "      <th>94</th>\n",
       "      <td>299.0</td>\n",
       "      <td>150.0</td>\n",
       "      <td>461.0</td>\n",
       "      <td>51.0</td>\n",
       "      <td>46.0</td>\n",
       "    </tr>\n",
       "    <tr>\n",
       "      <th>95</th>\n",
       "      <td>182.0</td>\n",
       "      <td>95.0</td>\n",
       "      <td>200.0</td>\n",
       "      <td>28.0</td>\n",
       "      <td>22.0</td>\n",
       "    </tr>\n",
       "    <tr>\n",
       "      <th>96</th>\n",
       "      <td>76.0</td>\n",
       "      <td>35.0</td>\n",
       "      <td>88.0</td>\n",
       "      <td>10.0</td>\n",
       "      <td>3.0</td>\n",
       "    </tr>\n",
       "    <tr>\n",
       "      <th>97</th>\n",
       "      <td>41.0</td>\n",
       "      <td>9.0</td>\n",
       "      <td>42.0</td>\n",
       "      <td>8.0</td>\n",
       "      <td>NaN</td>\n",
       "    </tr>\n",
       "    <tr>\n",
       "      <th>98</th>\n",
       "      <td>4.0</td>\n",
       "      <td>NaN</td>\n",
       "      <td>16.0</td>\n",
       "      <td>NaN</td>\n",
       "      <td>NaN</td>\n",
       "    </tr>\n",
       "    <tr>\n",
       "      <th>99</th>\n",
       "      <td>3.0</td>\n",
       "      <td>NaN</td>\n",
       "      <td>2.0</td>\n",
       "      <td>1.0</td>\n",
       "      <td>NaN</td>\n",
       "    </tr>\n",
       "    <tr>\n",
       "      <th>100</th>\n",
       "      <td>1.0</td>\n",
       "      <td>NaN</td>\n",
       "      <td>2.0</td>\n",
       "      <td>NaN</td>\n",
       "      <td>NaN</td>\n",
       "    </tr>\n",
       "  </tbody>\n",
       "</table>\n",
       "</div>"
      ],
      "text/plain": [
       "variety  Cabernet Sauvignon  Chardonnay  Pinot Noir  Red Blend  Zinfandel\n",
       "points                                                                   \n",
       "80                     19.0         7.0         5.0       43.0       43.0\n",
       "81                     34.0        22.0        17.0       40.0       52.0\n",
       "82                    137.0       114.0       110.0      117.0      195.0\n",
       "83                    125.0       161.0       138.0      153.0      205.0\n",
       "84                    219.0       307.0       241.0      261.0      268.0\n",
       "85                    273.0       339.0       333.0      225.0      228.0\n",
       "86                    335.0       425.0       491.0      251.0      277.0\n",
       "87                    521.0       639.0       840.0      363.0      384.0\n",
       "88                    396.0       486.0       724.0      377.0      261.0\n",
       "89                    342.0       367.0       608.0      258.0      156.0\n",
       "90                    587.0       549.0       927.0      285.0      274.0\n",
       "91                    368.0       378.0       689.0      202.0      168.0\n",
       "92                    526.0       486.0       811.0      138.0      158.0\n",
       "93                    401.0       323.0       697.0      123.0       74.0\n",
       "94                    299.0       150.0       461.0       51.0       46.0\n",
       "95                    182.0        95.0       200.0       28.0       22.0\n",
       "96                     76.0        35.0        88.0       10.0        3.0\n",
       "97                     41.0         9.0        42.0        8.0        NaN\n",
       "98                      4.0         NaN        16.0        NaN        NaN\n",
       "99                      3.0         NaN         2.0        1.0        NaN\n",
       "100                     1.0         NaN         2.0        NaN        NaN"
      ]
     },
     "execution_count": 137,
     "metadata": {},
     "output_type": "execute_result"
    }
   ],
   "source": [
    "#Cгруппируем таблицу по сортам и оценкам, а затем транспонируем\n",
    "wine_counts = wine_top_variety.groupby(['variety','points'])['points'].count().unstack().T\n",
    "wine_counts"
   ]
  },
  {
   "cell_type": "code",
   "execution_count": 138,
   "id": "5c00ba9b",
   "metadata": {},
   "outputs": [
    {
     "data": {
      "text/plain": [
       "<Axes: xlabel='points'>"
      ]
     },
     "execution_count": 138,
     "metadata": {},
     "output_type": "execute_result"
    },
    {
     "data": {
      "image/png": "[encoded data removed]",
      "text/plain": [
       "<Figure size 1000x600 with 1 Axes>"
      ]
     },
     "metadata": {},
     "output_type": "display_data"
    }
   ],
   "source": [
    "wine_counts.plot.bar(stacked=True, figsize=(10, 6))"
   ]
  },
  {
   "cell_type": "markdown",
   "id": "7b60d4f3",
   "metadata": {},
   "source": [
    "### Создадим функцию для поиска лучших вин выпускаемых винодельней"
   ]
  },
  {
   "cell_type": "code",
   "execution_count": 184,
   "id": "4f65ba46",
   "metadata": {},
   "outputs": [],
   "source": [
    "def winery_top_production(winery):\n",
    "    df_winery = df.loc[df['winery'] == winery]\n",
    "    max_points_row = df_winery.loc[df_winery['points'].idxmax()]\n",
    "    return pd.DataFrame([max_points_row], columns=df.columns)"
   ]
  },
  {
   "cell_type": "code",
   "execution_count": 185,
   "id": "7833d8bc",
   "metadata": {
    "scrolled": true
   },
   "outputs": [
    {
     "data": {
      "text/html": [
       "<div>\n",
       "<style scoped>\n",
       "    .dataframe tbody tr th:only-of-type {\n",
       "        vertical-align: middle;\n",
       "    }\n",
       "\n",
       "    .dataframe tbody tr th {\n",
       "        vertical-align: top;\n",
       "    }\n",
       "\n",
       "    .dataframe thead th {\n",
       "        text-align: right;\n",
       "    }\n",
       "</style>\n",
       "<table border=\"1\" class=\"dataframe\">\n",
       "  <thead>\n",
       "    <tr style=\"text-align: right;\">\n",
       "      <th></th>\n",
       "      <th>Unnamed: 0</th>\n",
       "      <th>country</th>\n",
       "      <th>description</th>\n",
       "      <th>designation</th>\n",
       "      <th>points</th>\n",
       "      <th>price</th>\n",
       "      <th>province</th>\n",
       "      <th>region_1</th>\n",
       "      <th>region_2</th>\n",
       "      <th>variety</th>\n",
       "      <th>winery</th>\n",
       "      <th>expensive</th>\n",
       "    </tr>\n",
       "  </thead>\n",
       "  <tbody>\n",
       "    <tr>\n",
       "      <th>114272</th>\n",
       "      <td>114272</td>\n",
       "      <td>US</td>\n",
       "      <td>Impossibly aromatic. Hard to imagine greater c...</td>\n",
       "      <td>Red Wine</td>\n",
       "      <td>100</td>\n",
       "      <td>245.0</td>\n",
       "      <td>California</td>\n",
       "      <td>Rutherford</td>\n",
       "      <td>Napa</td>\n",
       "      <td>Cabernet Blend</td>\n",
       "      <td>Sloan</td>\n",
       "      <td>1</td>\n",
       "    </tr>\n",
       "  </tbody>\n",
       "</table>\n",
       "</div>"
      ],
      "text/plain": [
       "        Unnamed: 0 country                                        description  \\\n",
       "114272      114272      US  Impossibly aromatic. Hard to imagine greater c...   \n",
       "\n",
       "       designation  points  price    province    region_1 region_2  \\\n",
       "114272    Red Wine     100  245.0  California  Rutherford     Napa   \n",
       "\n",
       "               variety winery  expensive  \n",
       "114272  Cabernet Blend  Sloan          1  "
      ]
     },
     "execution_count": 185,
     "metadata": {},
     "output_type": "execute_result"
    }
   ],
   "source": [
    "winery_top_production('Sloan')"
   ]
  }
 ],
 "metadata": {
  "kernelspec": {
   "display_name": "Python 3 (ipykernel)",
   "language": "python",
   "name": "python3"
  },
  "language_info": {
   "codemirror_mode": {
    "name": "ipython",
    "version": 3
   },
   "file_extension": ".py",
   "mimetype": "text/x-python",
   "name": "python",
   "nbconvert_exporter": "python",
   "pygments_lexer": "ipython3",
   "version": "3.10.9"
  }
 },
 "nbformat": 4,
 "nbformat_minor": 5
}
